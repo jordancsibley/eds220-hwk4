{
 "cells": [
  {
   "cell_type": "markdown",
   "id": "bdce9803-58e7-49e5-8650-966c144c2e8f",
   "metadata": {},
   "source": [
    "# Task 2 - False Color Image \n",
    "\n",
    "Date: 2024-11-23\n",
    "\n",
    "Author: Jordan Sibley \n",
    "\n",
    "[Github Repository](https://github.com/jordancsibley/eds220-hwk4)"
   ]
  },
  {
   "cell_type": "code",
   "execution_count": null,
   "id": "8ce6b7cd-210a-4bad-a4eb-1326fa1b4ded",
   "metadata": {},
   "outputs": [],
   "source": []
  }
 ],
 "metadata": {
  "kernelspec": {
   "display_name": "Anaconda 3 (EDS220)",
   "language": "python",
   "name": "eds220-env"
  },
  "language_info": {
   "codemirror_mode": {
    "name": "ipython",
    "version": 3
   },
   "file_extension": ".py",
   "mimetype": "text/x-python",
   "name": "python",
   "nbconvert_exporter": "python",
   "pygments_lexer": "ipython3",
   "version": "3.11.4"
  }
 },
 "nbformat": 4,
 "nbformat_minor": 5
}
