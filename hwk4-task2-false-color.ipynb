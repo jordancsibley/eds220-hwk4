{
 "cells": [
  {
   "cell_type": "markdown",
   "id": "bdce9803-58e7-49e5-8650-966c144c2e8f",
   "metadata": {},
   "source": [
    "# Task 2 - False Color Image \n",
    "\n",
    "Date: 2024-11-23\n",
    "\n",
    "Author: Jordan Sibley \n",
    "\n",
    "[Github Repository](https://github.com/jordancsibley/eds220-hwk4)"
   ]
  },
  {
   "cell_type": "markdown",
   "id": "72b96022-663f-45af-94e4-b2fa50d99581",
   "metadata": {},
   "source": [
    "## Data\n",
    "\n",
    "The data used to create the false color image of the Thomas fire is Landsat data and fire perimeter data. The Landsat Collection 2 Level-2 data is a simplifed collection of bands collected from the an atmosphereic satellite. The fire perimeter data is a subset of a CAL FIRE geodatabase that contains only the geometries for the Thomas Fire. "
   ]
  },
  {
   "cell_type": "code",
   "execution_count": 3,
   "id": "e4019b51-b3a4-44ce-b916-e1d29ccf7b88",
   "metadata": {
    "tags": []
   },
   "outputs": [],
   "source": [
    "# Import libraries \n",
    "import pandas as pd \n",
    "import geopandas as gpd \n",
    "import os \n",
    "import rioxarray as rioxr\n",
    "import xarray as xr\n",
    "\n",
    "# Set environment variable\n",
    "os.environ['PROJ_LIB'] = '/opt/anaconda3/share/proj'"
   ]
  },
  {
   "cell_type": "markdown",
   "id": "0037c426-8739-4384-afe5-589f7e25645e",
   "metadata": {},
   "source": [
    "ASK IF I SHOULD BE PUTTING LANDSAT DATA IN THE DATA FOLDER OR NOT"
   ]
  },
  {
   "cell_type": "code",
   "execution_count": 4,
   "id": "41648185-a07f-4840-92fd-bce283e3b902",
   "metadata": {
    "tags": []
   },
   "outputs": [],
   "source": [
    "# File path to data on workbench \n",
    "fp = os.path.join(\"/courses/EDS220/data/hwk4_landsat_data/landsat8-2018-01-26-sb-simplified.nc\")\n",
    "landsat = rioxr.open_rasterio(fp)"
   ]
  },
  {
   "cell_type": "code",
   "execution_count": null,
   "id": "7abe5648-38db-41cf-b86f-53fc288130ab",
   "metadata": {},
   "outputs": [],
   "source": []
  }
 ],
 "metadata": {
  "kernelspec": {
   "display_name": "Anaconda 3 (EDS220)",
   "language": "python",
   "name": "eds220-env"
  },
  "language_info": {
   "codemirror_mode": {
    "name": "ipython",
    "version": 3
   },
   "file_extension": ".py",
   "mimetype": "text/x-python",
   "name": "python",
   "nbconvert_exporter": "python",
   "pygments_lexer": "ipython3",
   "version": "3.11.4"
  }
 },
 "nbformat": 4,
 "nbformat_minor": 5
}
