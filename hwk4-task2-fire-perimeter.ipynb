{
 "cells": [
  {
   "cell_type": "markdown",
   "id": "167d9d3f-38a0-4208-980c-5c62a7cd9b13",
   "metadata": {},
   "source": [
    "# Task 2- Fire Perimeter \n",
    "\n",
    "Date: 2024-11-23\n",
    "\n",
    "Author: Jordan Sibley \n",
    "\n",
    "[Github Repository](https://github.com/jordancsibley/eds220-hwk4)"
   ]
  },
  {
   "cell_type": "code",
   "execution_count": null,
   "id": "d34befa0-42a2-48d5-acbb-3c7a44d09d08",
   "metadata": {},
   "outputs": [],
   "source": []
  }
 ],
 "metadata": {
  "kernelspec": {
   "display_name": "Anaconda 3 (EDS220)",
   "language": "python",
   "name": "eds220-env"
  },
  "language_info": {
   "codemirror_mode": {
    "name": "ipython",
    "version": 3
   },
   "file_extension": ".py",
   "mimetype": "text/x-python",
   "name": "python",
   "nbconvert_exporter": "python",
   "pygments_lexer": "ipython3",
   "version": "3.11.4"
  }
 },
 "nbformat": 4,
 "nbformat_minor": 5
}
